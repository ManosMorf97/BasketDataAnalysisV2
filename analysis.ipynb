{
 "cells": [
  {
   "cell_type": "code",
   "execution_count": 2,
   "metadata": {},
   "outputs": [
    {
     "name": "stdout",
     "output_type": "stream",
     "text": [
      "Train path: C:\\Users\\manos\\Desktop\\BDA\\BasketDataAnalysisV2\\2012-18_teamBoxScore.csv\n"
     ]
    },
    {
     "name": "stderr",
     "output_type": "stream",
     "text": [
      "C:\\Users\\manos\\Anaconda3\\lib\\site-packages\\sklearn\\preprocessing\\label.py:95: DataConversionWarning: A column-vector y was passed when a 1d array was expected. Please change the shape of y to (n_samples, ), for example using ravel().\n",
      "  y = column_or_1d(y, warn=True)\n",
      "C:\\Users\\manos\\Anaconda3\\lib\\site-packages\\sklearn\\preprocessing\\label.py:128: DataConversionWarning: A column-vector y was passed when a 1d array was expected. Please change the shape of y to (n_samples, ), for example using ravel().\n",
      "  y = column_or_1d(y, warn=True)\n"
     ]
    },
    {
     "name": "stdout",
     "output_type": "stream",
     "text": [
      "Ready\n",
      "\n"
     ]
    },
    {
     "data": {
      "image/png": "[encoded data removed]",
      "text/plain": [
       "<Figure size 648x216 with 1 Axes>"
      ]
     },
     "metadata": {
      "needs_background": "light"
     },
     "output_type": "display_data"
    }
   ],
   "source": [
    "def do_sth(pred,dataset):\n",
    "    array_plot=[]\n",
    "    import numpy as np\n",
    "    pred=np.ravel(pred)\n",
    "    for x in range(10):\n",
    "        from sklearn.model_selection import train_test_split\n",
    "        dataset_train, dataset_test, pred_train, pred_real=train_test_split(dataset,pred,test_size=0.2,random_state=42)\n",
    "        from sklearn.neural_network import MLPClassifier\n",
    "        LR=MLPClassifier(hidden_layer_sizes=(100,100,100)).fit(dataset_train,pred_train);\n",
    "        pred_test=LR.predict(dataset_test)\n",
    "        from sklearn.metrics import accuracy_score\n",
    "        array_plot.append(accuracy_score(pred_real,pred_test))\n",
    "    return array_plot\n",
    "\n",
    "#C:\\Users\\manos\\Desktop\\BDA\\BasketDataAnalysisV2\\2012-18_teamBoxScore.csv\n",
    "import pandas as pd\n",
    "dataset=pd.read_csv(input('Train path: '))\n",
    "dataset=dataset[['gmDate','gmTime','teamAbbr','teamRslt','teamMin','teamDayOff','teamAST','teamTO','teamSTL','teamBLK','teamPF','teamFGA','teamORB','teamDRB']]\n",
    "from sklearn.preprocessing import LabelEncoder\n",
    "transforms=['gmDate','gmTime','teamAbbr','teamRslt']\n",
    "le=[]\n",
    "for i in range(4):\n",
    "    le.append(LabelEncoder())\n",
    "    world=transforms[i]\n",
    "    le[i].fit(dataset[[world]])\n",
    "    dataset[[world]]=le[i].transform(dataset[[world]])\n",
    "pred=dataset[['teamRslt']]\n",
    "dataset=(dataset.drop(columns=['teamRslt']))\n",
    "ds=do_sth(pred,dataset)\n",
    "y=[x*10 for x in ds]\n",
    "import matplotlib.pyplot as plt\n",
    "print('Ready\\n')\n",
    "plt.figure(figsize=(9, 3))\n",
    "plt.subplot(131)\n",
    "plt.bar(range(10), y)\n",
    "plt.xlabel('number of repeats')\n",
    "plt.ylabel('accuracy')\n",
    "plt.show()\n",
    "\n",
    "    \n"
   ]
  },
  {
   "cell_type": "code",
   "execution_count": null,
   "metadata": {},
   "outputs": [],
   "source": []
  }
 ],
 "metadata": {
  "kernelspec": {
   "display_name": "Python 3",
   "language": "python",
   "name": "python3"
  },
  "language_info": {
   "codemirror_mode": {
    "name": "ipython",
    "version": 3
   },
   "file_extension": ".py",
   "mimetype": "text/x-python",
   "name": "python",
   "nbconvert_exporter": "python",
   "pygments_lexer": "ipython3",
   "version": "3.7.0"
  }
 },
 "nbformat": 4,
 "nbformat_minor": 2
}
